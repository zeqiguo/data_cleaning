{
 "cells": [
  {
   "cell_type": "code",
   "execution_count": 1,
   "metadata": {},
   "outputs": [],
   "source": [
    "import pandas as pd\n",
    "import numpy as np \n",
    "import nltk\n",
    "import string \n",
    "import re \n",
    "import warnings\n",
    "import matplotlib.pyplot as plt\n",
    "\n",
    "\n",
    "from datetime import datetime\n",
    "from nltk.stem import PorterStemmer\n",
    "from nltk.tokenize import word_tokenize\n",
    "from nltk.corpus import stopwords\n",
    "# from sklearn.feature_extraction.text import CountVectorize\n",
    "\n",
    "\n",
    "import pre\n"
   ]
  },
  {
   "cell_type": "code",
   "execution_count": null,
   "metadata": {},
   "outputs": [],
   "source": [
    "path_0 = '../crawler/data/CarV4_1.csv'\n",
    "path_1 = '../crawler/data/CarV4_0_0.csv'\n",
    "path_2 = '../crawler/data/CarV4_0_1.csv'\n",
    "path_3 = '../crawler/data/CarV4_0_2.csv'\n",
    "\n",
    "df = pd.read_csv(path_0)\n",
    "# df_1 = pd.read_csv(path_1)\n",
    "# df = df_0.append(df_1, sort=False, ignore_index=True)\n",
    "\n",
    "\n",
    "df.head() "
   ]
  },
  {
   "cell_type": "code",
   "execution_count": null,
   "metadata": {},
   "outputs": [],
   "source": [
    "df.info()"
   ]
  },
  {
   "cell_type": "code",
   "execution_count": null,
   "metadata": {},
   "outputs": [],
   "source": [
    "ads = [('\\\\nA D V E R T I S E M E N T S\\\\n\\\\n\\\\t\\\\tgoogletag.cmd.push(function() { googletag.display(\\'div-gpt-ad-1319716927473-1\\'); });', ''),\n",
    "       ('\\\\nA D V E R T I S E M E N T S\\\\n\\\\n\\\\t\\\\tgoogletag.cmd.push(function() { googletag.display(\\'div-gpt-ad-1319716927473-2\\'); });', ''),\n",
    "       ('\\\\nA D V E R T I S E M E N T S\\\\n\\\\n\\\\t\\\\tgoogletag.cmd.push(function() { googletag.display(\\'div-gpt-ad-1319716927473-3\\'); });', ''),\n",
    "       ('\\\\nA D V E R T I S E M E N T S\\\\n\\\\n\\\\t\\\\tgoogletag.cmd.push(function() { googletag.display(\\'div-gpt-ad-1319716927473-4\\'); });', ''),\n",
    "       ('\\\\nA D V E R T I S E M E N T S\\\\n\\\\n\\\\t\\\\tgoogletag.cmd.push(function() { googletag.display(\\'div-gpt-ad-1319716927473-5\\'); });', ''),\n",
    "       ('\\\\nA D V E R T I S E M E N T S\\\\n\\\\n\\\\t\\\\tgoogletag.cmd.push(function() { googletag.display(\\'div-gpt-ad-1319716927473-6\\'); });', ''),\n",
    "       ('\\\\nA D V E R T I S E M E N T S\\\\n\\\\n\\\\t\\\\tgoogletag.cmd.push(function() { googletag.display(\\'div-gpt-ad-1319716927473-7\\'); });', ''),\n",
    "       ('\\\\nA D V E R T I S E M E N T S\\\\n\\\\n\\\\t\\\\tgoogletag.cmd.push(function() { googletag.display(\\'div-gpt-ad-1319716927473-8\\'); });', ''),\n",
    "       ('\\\\nA D V E R T I S E M E N T S\\\\n\\\\n\\\\t\\\\tgoogletag.cmd.push(function() { googletag.display(\\'div-gpt-ad-1319716927473-9\\'); });', ''),\n",
    "       ('\\\\nA D V E R T I S E M E N T S\\\\n\\\\n\\\\t\\\\tgoogletag.cmd.push(function() { googletag.display(\\\\\\'div-gpt-ad-1319716927473-1\\\\\\'); });', ''),\n",
    "       ('\\\\nA D V E R T I S E M E N T S\\\\n\\\\n\\\\t\\\\tgoogletag.cmd.push(function() { googletag.display(\\\\\\'div-gpt-ad-1319716927473-2\\\\\\'); });', ''),\n",
    "       ('\\\\nA D V E R T I S E M E N T S\\\\n\\\\n\\\\t\\\\tgoogletag.cmd.push(function() { googletag.display(\\\\\\'div-gpt-ad-1319716927473-3\\\\\\'); });', ''),\n",
    "       ('\\\\nA D V E R T I S E M E N T S\\\\n\\\\n\\\\t\\\\tgoogletag.cmd.push(function() { googletag.display(\\\\\\'div-gpt-ad-1319716927473-4\\\\\\'); });', ''),\n",
    "       ('\\\\nA D V E R T I S E M E N T S\\\\n\\\\n\\\\t\\\\tgoogletag.cmd.push(function() { googletag.display(\\\\\\'div-gpt-ad-1319716927473-5\\\\\\'); });', ''),\n",
    "       ('\\\\nA D V E R T I S E M E N T S\\\\n\\\\n\\\\t\\\\tgoogletag.cmd.push(function() { googletag.display(\\\\\\'div-gpt-ad-1319716927473-6\\\\\\'); });', ''),\n",
    "       ('\\\\nA D V E R T I S E M E N T S\\\\n\\\\n\\\\t\\\\tgoogletag.cmd.push(function() { googletag.display(\\\\\\'div-gpt-ad-1319716927473-7\\\\\\'); });', ''),\n",
    "       ('\\\\nA D V E R T I S E M E N T S\\\\n\\\\n\\\\t\\\\tgoogletag.cmd.push(function() { googletag.display(\\\\\\'div-gpt-ad-1319716927473-8\\\\\\'); });', ''),\n",
    "       ('\\\\nA D V E R T I S E M E N T S\\\\n\\\\n\\\\t\\\\tgoogletag.cmd.push(function() { googletag.display(\\\\\\'div-gpt-ad-1319716927473-9\\\\\\'); });', ''),\n",
    "       ('\\\"', '\\''),\n",
    "       ('\\\", \\\"\\\\n', '\\', \\'\\\\n'),  # use for split person\n",
    "       ('[', ''),\n",
    "       (']', ''),\n",
    "       ############### Before personal info ########\n",
    "       ('\\\\n\\\\t\\\\t\\\\t\\\\t', ''),\n",
    "       ('\\\\n\\\\n-', ''),\n",
    "       ('\\\\n\\\\t\\\\t\\\\t-', ''),\n",
    "       #############################################\n",
    "       ############## Begin of a comment ###########\n",
    "       ('\\\\n\\\\t\\\\n\\\\n', ''),\n",
    "       ('\\\\n\\\\t\\\\t\\\\t', ''),\n",
    "       ('\\\\t\\\\t\\\\t', '')\n",
    "       #############################################\n",
    "      ]\n",
    "\n",
    "len(df.columns[3:])\n",
    "\n",
    "\n",
    "# df['to_bog'] = df['transmission'] + df['suspension'] + df['windows_windshield'] + df['fuel_system'] + df['body_paint'] + df['clutch'] + \\\n",
    "#                 df['seat_belts_air_bags'] + df['wheels_hubs'] + df['cooling_system'] + df['brakes'] + df['electrical'] + df['lights'] + \\\n",
    "#                 df['steering'] + df['drivetrain'] + df['accessories-interior'] + df['accessories-exterior'] + df['miscellaneous'] + \\\n",
    "#                  df['exhaust_system'] + df['AC_heater'] + df['engine']\n"
   ]
  },
  {
   "cell_type": "code",
   "execution_count": null,
   "metadata": {},
   "outputs": [],
   "source": [
    "# remove ads in cells\n",
    "for cols in df.columns:\n",
    "    for k, v in ads:\n",
    "        df[cols] = df[cols].apply(lambda x : str(x).replace(k, v))\n",
    "\n",
    "# split data based on different person\n",
    "for i in range(3, len(df.columns)):\n",
    "        df[df.columns[i]] = df[df.columns[i]].apply(lambda x : str(x).split('\\', \\'') if x != '0' else 0)\n",
    "\n",
    "df.head()"
   ]
  },
  {
   "cell_type": "code",
   "execution_count": null,
   "metadata": {},
   "outputs": [],
   "source": [
    "columns = ['Make', 'Model', 'Year', 'Comments', 'Label']\n",
    "df_comment = pd.DataFrame(columns=columns)\n",
    "\n",
    "# split each cmment to a row and add label save into a new DF\n",
    "rows = df.shape[0]\n",
    "cols = df.shape[1]\n",
    "\n",
    "for row_index in range(rows):\n",
    "    for col_index in range(3, cols):        \n",
    "        cell = df.iloc[row_index][col_index]\n",
    "        if cell != 0:\n",
    "            for comment in cell:\n",
    "                label = df.columns[col_index]\n",
    "                line = {'Make':df.iloc[row_index][0], 'Model':df.iloc[row_index][1], 'Year':df.iloc[row_index][2], 'Comments':comment,\\\n",
    "                       'Label':label}     # Make model year\n",
    "                df_comment = df_comment.append(line, ignore_index=True)   # df.append will generate a new d\n",
    "\n"
   ]
  },
  {
   "cell_type": "markdown",
   "metadata": {},
   "source": [
    "### check point 1\n"
   ]
  },
  {
   "cell_type": "code",
   "execution_count": null,
   "metadata": {},
   "outputs": [],
   "source": [
    "# df_comment.head()\n",
    "# df_comment.to_csv(path_or_buf='0_individual_comments/indiv_comment3.csv', index=False)"
   ]
  },
  {
   "cell_type": "code",
   "execution_count": null,
   "metadata": {},
   "outputs": [],
   "source": [
    "df_indiv = pd.read_csv('0_individual_comments/indiv_comment3.csv')\n",
    "df_indiv.head()"
   ]
  },
  {
   "cell_type": "code",
   "execution_count": null,
   "metadata": {},
   "outputs": [],
   "source": [
    "warnings.filterwarnings(\"ignore\")\n",
    "\n",
    "date_list = []\n",
    "exp_list = []       # capture exception index\n",
    "comment_list = []\n",
    "\n",
    "print('total lines: {}'.format(df_indiv.shape[0]))\n",
    "\n",
    "for i in range(df_indiv.shape[0]):\n",
    "    date_ = df_indiv.iloc[i][3].split('\\\\n\\\\n')[-1].replace('\\'', '').replace('(reported on)','').strip()\n",
    "    date_ = date_[:-4] + ' ' + date_[-4:]\n",
    "    comment = df_indiv.iloc[i][3].split('\\\\n\\\\n')[:-1]        # New comment without date but location\n",
    "    \n",
    "    try:\n",
    "        datetime_object = datetime.strptime(date_, '%b %d %Y')\n",
    "    except:\n",
    "        date_list.append('EXP')\n",
    "        exp_list.append(i)\n",
    "        comment_list.append(' ')\n",
    "    else:\n",
    "        date_list.append(date_)\n",
    "        comment_list.append(comment)\n",
    "\n",
    "# print(date_list[:10])\n",
    "\n",
    "df_indiv['Date'] = date_list\n",
    "df_indiv['Comments'] = comment_list\n",
    "\n",
    "# del don't have correct date format\n",
    "df_indiv = df_indiv[df_indiv.Date != 'EXP']\n",
    "\n",
    "print('Lines after del:{}'.format(df_indiv.shape[0]))"
   ]
  },
  {
   "cell_type": "markdown",
   "metadata": {},
   "source": [
    "### Check Point 2\n"
   ]
  },
  {
   "cell_type": "code",
   "execution_count": null,
   "metadata": {},
   "outputs": [],
   "source": [
    "# df_indiv.to_csv(path_or_buf='1_date_added/df_with_date3.csv', index=False)"
   ]
  },
  {
   "cell_type": "code",
   "execution_count": null,
   "metadata": {},
   "outputs": [],
   "source": [
    "df_indi_date = pd.read_csv('1_date_added/df_with_date3.csv')\n",
    "df_indi_date.head()"
   ]
  },
  {
   "cell_type": "code",
   "execution_count": null,
   "metadata": {},
   "outputs": [],
   "source": [
    "countries = []\n",
    "states = []\n",
    "comments = []\n",
    "\n",
    "for row_index in range(df_indi_date.shape[0]):\n",
    "    processed = pre.string_processor(df_indi_date.iloc[row_index][3])\n",
    "    countries.append(processed.split()[-1])\n",
    "    states.append(processed.split()[-2])\n",
    "    comments.append(' '.join(processed.split()[:-3]))\n",
    "    \n",
    "print(len(countries), len(countries), len(countries))"
   ]
  },
  {
   "cell_type": "code",
   "execution_count": null,
   "metadata": {},
   "outputs": [],
   "source": [
    "df_indi_date['Comments'] = comments\n",
    "df_indi_date['country'] = countries\n",
    "df_indi_date['state'] = states\n",
    "\n",
    "df_indi_date.head()"
   ]
  },
  {
   "cell_type": "markdown",
   "metadata": {},
   "source": [
    "### Check Point 3\n"
   ]
  },
  {
   "cell_type": "code",
   "execution_count": null,
   "metadata": {},
   "outputs": [],
   "source": [
    "# df_indi_date.to_csv(path_or_buf='2_location_added/df_with_loc3.csv', index=False)"
   ]
  },
  {
   "cell_type": "code",
   "execution_count": null,
   "metadata": {},
   "outputs": [],
   "source": [
    "df_final = pd.read_csv('2_location_added/df_with_loc3.csv')\n",
    "\n",
    "df_toyota = df_final[df_final['Make'] == 'Toyota']\n",
    "\n",
    "date = []\n",
    "for i in range(df_toyota.shape[0]):\n",
    "    m_y = ' '.join([df_toyota.iloc[i][5].split()[0], df_toyota.iloc[i][5].split()[-1]])\n",
    "    date.append(datetime.strptime(m_y, '%b %Y').date())\n",
    "\n",
    "df_toyota['Date'] = date\n",
    "\n",
    "df_toyota.head()"
   ]
  },
  {
   "cell_type": "code",
   "execution_count": null,
   "metadata": {},
   "outputs": [],
   "source": [
    "first_day = datetime.strptime('Jan 2002', '%b %Y').date()\n",
    "\n",
    "df_sample = df_toyota[df_toyota['Date'] >= first_day]\n",
    "\n",
    "date_table = {}\n",
    "for date in set(df_sample['Date']):\n",
    "    date_table[date] = 0\n",
    "\n",
    "for i in range(df_sample.shape[0]):\n",
    "    date_table[df_sample.iloc[i][5]] += 1\n",
    "    \n",
    "# date_table"
   ]
  },
  {
   "cell_type": "code",
   "execution_count": null,
   "metadata": {},
   "outputs": [],
   "source": [
    "def plot_dict(dict_):\n",
    "    plt.figure(figsize=(60, 20))\n",
    "    plt.title('Toyota', fontsize=50)\n",
    "    plt.bar(range(len(dict_)), list(dict_.values()))\n",
    "    plt.xticks(range(len(dict_)), list(dict_.keys()),rotation='vertical')\n",
    "    plt.ylabel('# of complains')\n",
    "    plt.xlabel('Date')\n",
    "\n",
    "plot_dict(date_table)"
   ]
  }
 ],
 "metadata": {
  "kernelspec": {
   "display_name": "Python 3",
   "language": "python",
   "name": "python3"
  },
  "language_info": {
   "codemirror_mode": {
    "name": "ipython",
    "version": 3
   },
   "file_extension": ".py",
   "mimetype": "text/x-python",
   "name": "python",
   "nbconvert_exporter": "python",
   "pygments_lexer": "ipython3",
   "version": "3.5.3"
  }
 },
 "nbformat": 4,
 "nbformat_minor": 4
}
