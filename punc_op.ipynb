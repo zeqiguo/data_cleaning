{
 "cells": [
  {
   "cell_type": "code",
   "execution_count": 1,
   "metadata": {},
   "outputs": [],
   "source": [
    "import pandas as pd\n",
    "import numpy as np \n",
    "import string \n",
    "import re \n",
    "import pre_punc\n",
    "import pre\n",
    "\n",
    "from datetime import datetime\n",
    "\n",
    "\n"
   ]
  },
  {
   "cell_type": "code",
   "execution_count": null,
   "metadata": {},
   "outputs": [],
   "source": [
    "df_indi_date = pd.read_csv('1_date_added/df_with_date0.csv')\n",
    "df_indi_date.head()"
   ]
  },
  {
   "cell_type": "code",
   "execution_count": null,
   "metadata": {},
   "outputs": [],
   "source": [
    "countries = []\n",
    "states = []\n",
    "comments = []\n",
    "\n",
    "for row_index in range(df_indi_date.shape[0]):\n",
    "    \n",
    "    processed = pre.string_processor(df_indi_date.iloc[row_index][3])    # pre-pfocessing data\n",
    "    countries.append(processed.split()[-1])\n",
    "    states.append(processed.split()[-2])\n",
    "    comments.append(' '.join(processed.split()[:-3]))\n",
    "    \n",
    "print(len(countries), len(countries), len(countries))"
   ]
  },
  {
   "cell_type": "code",
   "execution_count": null,
   "metadata": {},
   "outputs": [],
   "source": [
    "df_indi_date['Comments'] = comments\n",
    "df_indi_date['country'] = countries\n",
    "df_indi_date['state'] = states\n",
    "\n",
    "df_indi_date.head()"
   ]
  },
  {
   "cell_type": "code",
   "execution_count": null,
   "metadata": {},
   "outputs": [],
   "source": [
    "df_indi_date.to_csv(path_or_buf='2_location_added/df_with_loc_punc0.csv', index=False)"
   ]
  }
 ],
 "metadata": {
  "kernelspec": {
   "display_name": "Python 3",
   "language": "python",
   "name": "python3"
  },
  "language_info": {
   "codemirror_mode": {
    "name": "ipython",
    "version": 3
   },
   "file_extension": ".py",
   "mimetype": "text/x-python",
   "name": "python",
   "nbconvert_exporter": "python",
   "pygments_lexer": "ipython3",
   "version": "3.7.3"
  }
 },
 "nbformat": 4,
 "nbformat_minor": 4
}
